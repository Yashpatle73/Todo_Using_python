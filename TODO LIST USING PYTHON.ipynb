{
 "cells": [
  {
   "cell_type": "markdown",
   "id": "fbd0ec00",
   "metadata": {},
   "source": [
    "==>Project Description\n",
    "    \n",
    "    \n",
    "    The ToDo list Python program you will write can do 4 things."
   ]
  },
  {
   "cell_type": "markdown",
   "id": "c259070f",
   "metadata": {},
   "source": [
    "1==>It can show the content of your ToDo list\n",
    "\n",
    "2==>It can add an item to your ToDo list\n",
    "\n",
    "3==>It can remove an item from your ToDo list\n",
    "\n",
    "4==>It can quit the program"
   ]
  },
  {
   "cell_type": "code",
   "execution_count": null,
   "id": "0c9e7cf0",
   "metadata": {},
   "outputs": [],
   "source": [
    "todo=[]\n",
    "while True:\n",
    "    # print the options to the user\n",
    "    print('1: Show content')\n",
    "    print('2: Add an item to List')\n",
    "    print('3: Remove an item from the list')\n",
    "    print('4: Quit')\n",
    "    \n",
    "    #prompt the user\n",
    "    option=input('Choose option: ')\n",
    "    \n",
    "    if option =='1' :\n",
    "        for idx, item in enumerate(todo):\n",
    "            print(idx,item)\n",
    "    elif option=='2' :\n",
    "        item= input('Add item to list :')\n",
    "        todo.append(item)\n",
    "    elif option =='3':\n",
    "        idx_str= input('what item to Remove (use index):')\n",
    "        idx=int(idx_str)\n",
    "        todo.pop(idx)\n",
    "    elif option == '4':\n",
    "        print('Goodbye')\n",
    "        break\n",
    "    else:\n",
    "        print('Not understood')\n",
    "    "
   ]
  },
  {
   "cell_type": "code",
   "execution_count": null,
   "id": "8b3e2d53",
   "metadata": {},
   "outputs": [],
   "source": []
  }
 ],
 "metadata": {
  "kernelspec": {
   "display_name": "Python 3 (ipykernel)",
   "language": "python",
   "name": "python3"
  },
  "language_info": {
   "codemirror_mode": {
    "name": "ipython",
    "version": 3
   },
   "file_extension": ".py",
   "mimetype": "text/x-python",
   "name": "python",
   "nbconvert_exporter": "python",
   "pygments_lexer": "ipython3",
   "version": "3.11.2"
  }
 },
 "nbformat": 4,
 "nbformat_minor": 5
}
